{
  "nbformat": 4,
  "nbformat_minor": 0,
  "metadata": {
    "colab": {
      "name": "Trial_Hito.ipynb",
      "version": "0.3.2",
      "provenance": [],
      "include_colab_link": true
    },
    "kernelspec": {
      "name": "python3",
      "display_name": "Python 3"
    }
  },
  "cells": [
    {
      "cell_type": "markdown",
      "metadata": {
        "id": "view-in-github",
        "colab_type": "text"
      },
      "source": [
        "<a href=\"https://colab.research.google.com/github/HitoishiChakma/GogingAgain/blob/master/Trial_Hito.ipynb\" target=\"_parent\"><img src=\"https://colab.research.google.com/assets/colab-badge.svg\" alt=\"Open In Colab\"/></a>"
      ]
    },
    {
      "metadata": {
        "id": "nH9nL3TeD0UR",
        "colab_type": "code",
        "colab": {
          "base_uri": "https://localhost:8080/",
          "height": 51
        },
        "outputId": "62e3e19e-d292-4380-c744-a651fef16cc6"
      },
      "cell_type": "code",
      "source": [
        "print(\"hello world\")\n",
        "3+4\n"
      ],
      "execution_count": 30,
      "outputs": [
        {
          "output_type": "stream",
          "text": [
            "hello world\n"
          ],
          "name": "stdout"
        },
        {
          "output_type": "execute_result",
          "data": {
            "text/plain": [
              "7"
            ]
          },
          "metadata": {
            "tags": []
          },
          "execution_count": 30
        }
      ]
    },
    {
      "metadata": {
        "id": "zX5cmo60EMlU",
        "colab_type": "code",
        "colab": {
          "base_uri": "https://localhost:8080/",
          "height": 51
        },
        "outputId": "5938223a-f818-48b9-e176-7b7251843e59"
      },
      "cell_type": "code",
      "source": [
        "print(7+10)\n",
        "print(10/17)"
      ],
      "execution_count": 3,
      "outputs": [
        {
          "output_type": "stream",
          "text": [
            "17\n",
            "0.5882352941176471\n"
          ],
          "name": "stdout"
        }
      ]
    },
    {
      "metadata": {
        "id": "n8kEBrSOGKWg",
        "colab_type": "code",
        "colab": {
          "base_uri": "https://localhost:8080/",
          "height": 85
        },
        "outputId": "d2d1832c-89e5-4130-d9ff-0835d4de045b"
      },
      "cell_type": "code",
      "source": [
        "#This is just a comment\n",
        "print(3**2)\n",
        "print(3**4)\n",
        "print(100*(1+0.1)**7)\n",
        "print(100*(1.1)**7)"
      ],
      "execution_count": 12,
      "outputs": [
        {
          "output_type": "stream",
          "text": [
            "9\n",
            "81\n",
            "194.87171000000012\n",
            "194.87171000000012\n"
          ],
          "name": "stdout"
        }
      ]
    },
    {
      "metadata": {
        "id": "HKK0Y0jc20DU",
        "colab_type": "code",
        "colab": {
          "base_uri": "https://localhost:8080/",
          "height": 68
        },
        "outputId": "ea91d12d-c8cb-42ba-8ec5-fc6b649a7cb8"
      },
      "cell_type": "code",
      "source": [
        "savings=100\n",
        "interest=.1\n",
        "result=savings*(1+interest)**7\n",
        "desc=\"compound interest\"\n",
        "boolean=True\n",
        "print(result)\n",
        "print(boolean)\n",
        "type(boolean)\n",
        "type(desc)\n"
      ],
      "execution_count": 22,
      "outputs": [
        {
          "output_type": "stream",
          "text": [
            "194.87171000000012\n",
            "True\n"
          ],
          "name": "stdout"
        },
        {
          "output_type": "execute_result",
          "data": {
            "text/plain": [
              "str"
            ]
          },
          "metadata": {
            "tags": []
          },
          "execution_count": 22
        }
      ]
    },
    {
      "metadata": {
        "id": "2o6FFehrGR7q",
        "colab_type": "code",
        "colab": {}
      },
      "cell_type": "code",
      "source": [
        "x = (1,4,6,9,34,67)\n",
        "y = (100,150, 175, 234, 345, 411)\n",
        "import numpy as np\n"
      ],
      "execution_count": 0,
      "outputs": []
    },
    {
      "metadata": {
        "id": "K9gVPVR8INEN",
        "colab_type": "code",
        "colab": {
          "base_uri": "https://localhost:8080/",
          "height": 34
        },
        "outputId": "9177bf04-cc13-4270-db57-6597837262d6"
      },
      "cell_type": "code",
      "source": [
        "int(3.99)\n",
        "name = \"hitoishi chakma\"\n",
        "name[4]"
      ],
      "execution_count": 34,
      "outputs": [
        {
          "output_type": "execute_result",
          "data": {
            "text/plain": [
              "'i'"
            ]
          },
          "metadata": {
            "tags": []
          },
          "execution_count": 34
        }
      ]
    }
  ]
}